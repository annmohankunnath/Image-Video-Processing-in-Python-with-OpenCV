{
 "cells": [
  {
   "cell_type": "code",
   "execution_count": null,
   "metadata": {},
   "outputs": [],
   "source": [
    "import cv2\n",
    "import time\n",
    "\n",
    "vid = cv2.VideoCapture(0) #Captures the video. 0 is for the webcam of the computer\n",
    "\n",
    "no_of_frames = 0 # To capture the number of frames in the video\n",
    "\n",
    "while True:\n",
    "  check, frame = vid.read() # To read the video that has been captured\n",
    "  no_of_frames = no_of_frames + 1 # To keep a record of the no of frames\n",
    "  gray_vid = cv2.cvtColor(frame,cv2.COLOR_BGR2GRAY) # To convert the video to gray scale\n",
    "  cv2.imshow(\"Capturing Gray Video\",gray_vid) # To display the video that is being captured in gray scale\n",
    "  key = cv2.waitKey(1) # To wait for 1 millisecond before the frame is withdrawn from being displayed on the screen\n",
    "  if key == ord('e'): # To quit the recording process if the key 'e' has been entered by the user\n",
    "    break\n",
    "\n",
    "print(\"The no of frames captured is \",no_of_frames) # To print the number of frames that have been captured\n",
    "vid.release() # To release the video\n",
    "cv2.destroyAllWindows() # To destroy all cv2 windows on the screen\n",
    "\n"
   ]
  },
  {
   "cell_type": "code",
   "execution_count": null,
   "metadata": {},
   "outputs": [],
   "source": []
  },
  {
   "cell_type": "code",
   "execution_count": null,
   "metadata": {},
   "outputs": [],
   "source": []
  }
 ],
 "metadata": {
  "kernelspec": {
   "display_name": "Python 3",
   "language": "python",
   "name": "python3"
  },
  "language_info": {
   "codemirror_mode": {
    "name": "ipython",
    "version": 3
   },
   "file_extension": ".py",
   "mimetype": "text/x-python",
   "name": "python",
   "nbconvert_exporter": "python",
   "pygments_lexer": "ipython3",
   "version": "3.6.4"
  }
 },
 "nbformat": 4,
 "nbformat_minor": 2
}
